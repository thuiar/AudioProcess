{
 "cells": [
  {
   "cell_type": "code",
   "execution_count": 1,
   "metadata": {},
   "outputs": [],
   "source": [
    "import os\n",
    "import pandas as pd\n",
    "from collections import Counter"
   ]
  },
  {
   "cell_type": "markdown",
   "metadata": {},
   "source": [
    "# 1. Check the number of label files to be processed"
   ]
  },
  {
   "cell_type": "code",
   "execution_count": 2,
   "metadata": {},
   "outputs": [
    {
     "name": "stdout",
     "output_type": "stream",
     "text": [
      "1\n"
     ]
    }
   ],
   "source": [
    "path = './IEMOCAP_Label/'\n",
    "files = os.listdir(path)\n",
    "print(len(files))"
   ]
  },
  {
   "cell_type": "markdown",
   "metadata": {},
   "source": [
    "# 2. Filter the four information : required emotion label, start and end time, file name, emotion dimension "
   ]
  },
  {
   "cell_type": "code",
   "execution_count": 3,
   "metadata": {},
   "outputs": [
    {
     "name": "stdout",
     "output_type": "stream",
     "text": [
      "The number of all emotion in lable file: 30\n",
      "Counter({'fru': 18, 'neu': 5, 'xxx': 4, 'ang': 3}) \n",
      "\n",
      "The number of selected emotion in lable file: 8\n",
      "Counter({'neu': 5, 'ang': 3})\n"
     ]
    }
   ],
   "source": [
    "# These emotion will be select.\n",
    "emotion = ['hap', 'exc', 'ang', 'sad', 'neu'] \n",
    "\n",
    "sel_emo = []\n",
    "sel_name = []\n",
    "sel_dim = []\n",
    "sel_time = []\n",
    "sel_start = []\n",
    "all_emo = []\n",
    "\n",
    "for file in files:\n",
    "    label_path = os.path.join(path, file)\n",
    "    with open(label_path, 'r') as rf:\n",
    "        lines = rf.readlines()\n",
    "        data = [[a for a in cur_data.split('\\t')] for cur_data in lines]\n",
    "        for i in range(len(data)-1):\n",
    "            if data[i][0]=='\\n':\n",
    "                n = i+1\n",
    "                all_emo.append(data[n][2])\n",
    "                if data[n][2] in emotion:\n",
    "                    sel_time.append(data[n][0])\n",
    "                    sel_start.append(data[n][0].split('-')[0][1:6])\n",
    "                    sel_name.append(data[n][1])\n",
    "                    sel_emo.append(data[n][2])\n",
    "                    sel_dim.append(data[n][3].split('\\n')[0])\n",
    "\n",
    "print('The number of all emotion in lable file: {}'.format(len(all_emo)))\n",
    "print(Counter(all_emo), '\\n')\n",
    "\n",
    "print('The number of selected emotion in lable file: {}'.format(len(sel_emo)))\n",
    "print(Counter(sel_emo))"
   ]
  },
  {
   "cell_type": "markdown",
   "metadata": {},
   "source": [
    "# 3. Create label file"
   ]
  },
  {
   "cell_type": "code",
   "execution_count": 5,
   "metadata": {},
   "outputs": [
    {
     "name": "stdout",
     "output_type": "stream",
     "text": [
      "Finally, select the number of data is: 8\n"
     ]
    }
   ],
   "source": [
    "df = pd.DataFrame(columns=('time', 'data_name', 'emotion_categorical', 'emotion_dimension'))\n",
    "df['time'] = sel_time\n",
    "df['data_name'] = sel_name\n",
    "df['emotion_categorical'] = sel_emo\n",
    "df['emotion_dimension'] = sel_dim\n",
    "df['start'] = sel_start\n",
    "df['start'] = df['start'].apply(pd.to_numeric)\n",
    "\n",
    "# Merging the happiness and excitement categories as the happy category.\n",
    "df.loc[df['emotion_categorical']=='exc', 'emotion_categorical'] = 'hap'\n",
    "\n",
    "# First sort the Session, and then sort the speaking time.\n",
    "files = ['Ses01F_impro01.txt']\n",
    "files.sort()\n",
    "df['session'] = [a[:-5] for a in df['data_name']]\n",
    "df_new = pd.DataFrame(columns=('time', 'data_name', 'emotion_categorical', 'emotion_dimension', 'start', 'session'))\n",
    "for i in files:\n",
    "    block = df.loc[df['session']==i[:-4]]\n",
    "    block = block.sort_values(['start'], ascending=True)\n",
    "    df_new = df_new.append(block)\n",
    "\n",
    "# creat .csv file    \n",
    "print('Finally, select the number of data is: {}'.format(df_new.shape[0]))\n",
    "df_new.to_csv('./IEMOCAP4.csv', index=False)"
   ]
  }
 ],
 "metadata": {
  "kernelspec": {
   "display_name": "Python 3",
   "language": "python",
   "name": "python3"
  },
  "language_info": {
   "codemirror_mode": {
    "name": "ipython",
    "version": 3
   },
   "file_extension": ".py",
   "mimetype": "text/x-python",
   "name": "python",
   "nbconvert_exporter": "python",
   "pygments_lexer": "ipython3",
   "version": "3.6.6"
  }
 },
 "nbformat": 4,
 "nbformat_minor": 2
}
